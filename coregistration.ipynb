{
 "cells": [
  {
   "cell_type": "markdown",
   "metadata": {},
   "source": [
    "# Coregistration"
   ]
  },
  {
   "cell_type": "markdown",
   "metadata": {},
   "source": [
    "<h3> Learning objectives </h3> \n",
    "\n",
    "After completing this module, you should be able to:\n",
    "\n",
    "1. Explain what coregistration does\n",
    "2. Perform coregistration on your dataset\n",
    "3. Identify any issues that may have ocurred in the coregistration process"
   ]
  },
  {
   "cell_type": "markdown",
   "metadata": {},
   "source": [
    "<h3> Overview </h3>\n",
    "\n",
    "Another important preprocessing step is coregistration. Coregistration is done for each participant. During the coregistration process, \"blurrier\" functional images are aligned with \"sharper\" anatomical images. This allows for more precise spatial normalization."
   ]
  },
  {
   "cell_type": "markdown",
   "metadata": {},
   "source": [
    "In the previous module, we inspected an anatomical image. Now, we will turn our focus to functional images. With functional scanes, we are interested in changes in brain activity happening over time. This is why head movement is problematic. We want to make sure any changes over time are due to changes in brain activity -- not simply changes in the position of the participant's head. "
   ]
  },
  {
   "cell_type": "markdown",
   "metadata": {},
   "source": [
    "Let's get started by loading and inspecting a functional image."
   ]
  },
  {
   "cell_type": "code",
   "execution_count": 13,
   "metadata": {
    "collapsed": false
   },
   "outputs": [],
   "source": [
    "from nilearn import datasets"
   ]
  },
  {
   "cell_type": "code",
   "execution_count": 14,
   "metadata": {
    "collapsed": true
   },
   "outputs": [],
   "source": [
    "haxby_dataset = datasets.fetch_haxby() # takes about 278M disk space"
   ]
  },
  {
   "cell_type": "code",
   "execution_count": 15,
   "metadata": {
    "collapsed": false
   },
   "outputs": [
    {
     "data": {
      "text/plain": [
       "['/Users/Emma/nilearn_data/haxby2001/subj2/bold.nii.gz']"
      ]
     },
     "execution_count": 15,
     "metadata": {},
     "output_type": "execute_result"
    }
   ],
   "source": [
    "haxby_dataset.func"
   ]
  },
  {
   "cell_type": "markdown",
   "metadata": {},
   "source": [
    "Again, the file name provides information about the type of data stored in it and the file format. We can tell from the file name above that it contains a functional image (\"func\"), that it is a NIfTI file (because of the \".nii\" extension) and that it is compressed using gzip (the \".gz\" extension.)\n",
    "\n",
    "Next we need to read the file into a variable in our Python environment. Nilearn provides tools for reading and writing NIfTI files in nilearn.image. Now we will use nilearn.image.load_img() to read the dataset we downloaded into a variable in our Python environment."
   ]
  },
  {
   "cell_type": "code",
   "execution_count": 16,
   "metadata": {
    "collapsed": true
   },
   "outputs": [],
   "source": [
    "from nilearn import image\n",
    "\n",
    "haxby_func = image.load_img(haxby_dataset.func)"
   ]
  },
  {
   "cell_type": "markdown",
   "metadata": {},
   "source": [
    "Now the variable haxby_func is an object that contains the brain image data stored in the NIfTI file we downloaded, as well as lots of information about that brain image, or metadata, such as the dimensions of the image, the bit depth of the data, and so on.\n",
    "Now we will inspect the brain image data (setting the metadata aside for later)."
   ]
  },
  {
   "cell_type": "code",
   "execution_count": 17,
   "metadata": {
    "collapsed": true
   },
   "outputs": [],
   "source": [
    "haxby_func_data = haxby_func.get_data()"
   ]
  },
  {
   "cell_type": "markdown",
   "metadata": {},
   "source": [
    "Do you remeber how to get information about the properties of this data file? Let's check out the shape."
   ]
  },
  {
   "cell_type": "code",
   "execution_count": 18,
   "metadata": {
    "collapsed": false
   },
   "outputs": [
    {
     "data": {
      "text/plain": [
       "(40, 64, 64, 1452)"
      ]
     },
     "execution_count": 18,
     "metadata": {},
     "output_type": "execute_result"
    }
   ],
   "source": [
    "haxby_func_data.shape"
   ]
  },
  {
   "cell_type": "markdown",
   "metadata": {},
   "source": [
    "Remember that by convention, the first three dimensions are x, y, and z, and the fourth dimension is time.\n",
    "\n",
    "When we inspected the anatomical image, the time dimension was '1'. Notice that here the time dimension is much longer and that the resolution of the x,y,z dimensions is lower."
   ]
  },
  {
   "cell_type": "code",
   "execution_count": 19,
   "metadata": {
    "collapsed": false
   },
   "outputs": [
    {
     "data": {
      "text/plain": [
       "numpy.ndarray"
      ]
     },
     "execution_count": 19,
     "metadata": {},
     "output_type": "execute_result"
    }
   ],
   "source": [
    "type(haxby_func_data)"
   ]
  },
  {
   "cell_type": "markdown",
   "metadata": {},
   "source": [
    "# Plotting Functional Images"
   ]
  },
  {
   "cell_type": "markdown",
   "metadata": {},
   "source": [
    "Let's install our handy plotting tools."
   ]
  },
  {
   "cell_type": "code",
   "execution_count": 20,
   "metadata": {
    "collapsed": true
   },
   "outputs": [],
   "source": [
    "%matplotlib inline\n",
    "import matplotlib.pyplot as plt"
   ]
  },
  {
   "cell_type": "code",
   "execution_count": 21,
   "metadata": {
    "collapsed": true
   },
   "outputs": [],
   "source": [
    "from nilearn import plotting"
   ]
  },
  {
   "cell_type": "markdown",
   "metadata": {},
   "source": [
    "Before plotting the functional images, we need to convert this 4-dimensional image file to a 3-dimensional one. Luckily, nilearn has a function for this! This function tells nilern to hold the time dimension constant. "
   ]
  },
  {
   "cell_type": "code",
   "execution_count": 22,
   "metadata": {
    "collapsed": false
   },
   "outputs": [
    {
     "data": {
      "text/plain": [
       "<nibabel.nifti1.Nifti1Image at 0x10e0d8080>"
      ]
     },
     "execution_count": 22,
     "metadata": {},
     "output_type": "execute_result"
    }
   ],
   "source": [
    "image.index_img(haxby_func, 0)"
   ]
  },
  {
   "cell_type": "code",
   "execution_count": 23,
   "metadata": {
    "collapsed": false
   },
   "outputs": [
    {
     "name": "stdout",
     "output_type": "stream",
     "text": [
      "(3.5, 3.75, 3.75, 1.0)\n"
     ]
    }
   ],
   "source": [
    "zooms = haxby_func.header.get_zooms()\n",
    "print(zooms)"
   ]
  },
  {
   "cell_type": "markdown",
   "metadata": {},
   "source": [
    "Once again, we see that we have non-isotropic voxels. We can check the voxel size by inspecting the metadata. The first three values correspond to the voxel sizes in the x, y, and z dimensions. Like before, we can use these values to calculate the proper aspect ratio for displaying the image."
   ]
  },
  {
   "cell_type": "markdown",
   "metadata": {},
   "source": [
    "# Insert cool little movie here"
   ]
  },
  {
   "cell_type": "markdown",
   "metadata": {},
   "source": [
    "Below is a plot that takes all "
   ]
  },
  {
   "cell_type": "code",
   "execution_count": 24,
   "metadata": {
    "collapsed": false,
    "scrolled": true
   },
   "outputs": [
    {
     "data": {
      "image/png": "[encoded data removed]",
      "text/plain": [
       "<matplotlib.figure.Figure at 0x12a65c198>"
      ]
     },
     "metadata": {},
     "output_type": "display_data"
    }
   ],
   "source": [
    "plotting.plot_epi(image.index_img(haxby_func, 0), cut_coords=(0, 0, 0));"
   ]
  },
  {
   "cell_type": "markdown",
   "metadata": {},
   "source": [
    "Whoa! What's going on here?? That doesn't look like a brain. \n",
    "\n",
    "And in fact... it shouldn't! \n",
    "\n",
    "Functional images are quick snapshots of the brain. We definitely need to do some work to make any sense of these images. Let's abandon plotting for now. "
   ]
  }
 ],
 "metadata": {
  "anaconda-cloud": {},
  "kernelspec": {
   "display_name": "Python [default]",
   "language": "python",
   "name": "python3"
  },
  "language_info": {
   "codemirror_mode": {
    "name": "ipython",
    "version": 3
   },
   "file_extension": ".py",
   "mimetype": "text/x-python",
   "name": "python",
   "nbconvert_exporter": "python",
   "pygments_lexer": "ipython3",
   "version": "3.5.2"
  }
 },
 "nbformat": 4,
 "nbformat_minor": 1
}
