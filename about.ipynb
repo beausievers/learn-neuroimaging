{
 "cells": [
  {
   "cell_type": "markdown",
   "metadata": {
    "deletable": true,
    "editable": true
   },
   "source": [
    "## Target audience\n",
    "\n",
    "Dana is a first year PhD student in a Psychology department who is designing and analyzing a univariate fMRI study. Dana has taken an introductory Computer Science course that uses Python, as well as a graduate level introductory statistics class with a focus on Psychology. Dana has read scientific papers that use neuroimaging, but has never written a neuroimaging analysis pipeline.\n",
    "\n",
    "Dana's study uses a simple two-by-two design, amenable to analysis using the General Linear Model. Dana has already received fMRI data from the department neuroimaging center in BIDS format. Dana will need to preprocess the data, analyze the data using the general linear model (GLM), and write methods and results sections suitable for publication in a scientific journal.\n",
    "\n",
    "Learn Neuroimaging with Python will show Dana how to:\n",
    "\n",
    "- Understand the BIDS-formatted data they receive from their neuroimaging center\n",
    "- Perform basic quality assurance on the data\n",
    "- Preprocess the data to prepare for analysis using the GLM\n",
    "- Perform an analysis using the GLM\n",
    "- Plot the results of their analysis\n",
    "- Write a methods section"
   ]
  },
  {
   "cell_type": "markdown",
   "metadata": {
    "deletable": true,
    "editable": true
   },
   "source": [
    "## Modules\n",
    "\n",
    "Each module should:\n",
    "\n",
    "- Not exceed approximately 30 minutes of teaching time\n",
    "- Have clearly stated, verifiable learning objectives\n",
    "- Include some summative assessment instrument that could be used to verify learning has taken place\n",
    "- Clearly flag prerequisites and link to relevant educational materials\n",
    "\n",
    "Module ideas:\n",
    "\n",
    "- How are brain images stored in files on your computer\n",
    "- Slice timing correction\n",
    "- Motion correction\n",
    "- Smoothing\n",
    "- Normalization to an MNI template (and coordinate systems)\n",
    "- The BOLD signal\n",
    "- Setting up a design matrix\n",
    "- Running the GLM\n",
    "- Hypothesis testing\n",
    "- Visualizing the results\n",
    "- Writing the methods section"
   ]
  }
 ],
 "metadata": {
  "anaconda-cloud": {},
  "kernelspec": {
   "display_name": "Python 3",
   "language": "python",
   "name": "python3"
  },
  "language_info": {
   "codemirror_mode": {
    "name": "ipython",
    "version": 3
   },
   "file_extension": ".py",
   "mimetype": "text/x-python",
   "name": "python",
   "nbconvert_exporter": "python",
   "pygments_lexer": "ipython3",
   "version": "3.6.0"
  }
 },
 "nbformat": 4,
 "nbformat_minor": 2
}
