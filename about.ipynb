{
 "cells": [
  {
   "cell_type": "markdown",
   "metadata": {
    "deletable": true,
    "editable": true
   },
   "source": [
    "## Target audience\n",
    "\n",
    "Dana is a first year PhD student in a Psychology department who is designing and analyzing a univariate fMRI study. Dana has taken an introductory Computer Science course that uses Python, as well as a graduate level introductory statistics class with a focus on Psychology. Dana has read scientific papers that use neuroimaging, but has never written a neuroimaging analysis pipeline.\n",
    "\n",
    "Dana's study uses a simple two-by-two design, amenable to analysis using the General Linear Model. Dana has already received fMRI data from the department neuroimaging center in BIDS format. Dana will need to preprocess the data, analyze the data using the general linear model (GLM), and write methods and results sections suitable for publication in a scientific journal.\n",
    "\n",
    "Learn Neuroimaging with Python will show Dana how to:\n",
    "\n",
    "- Understand the BIDS-formatted data they receive from their neuroimaging center\n",
    "- Perform basic quality assurance on the data\n",
    "- Preprocess the data to prepare for analysis using the GLM\n",
    "- Perform an analysis using the GLM\n",
    "- Plot the results of their analysis\n",
    "- Write a methods section"
   ]
  },
  {
   "cell_type": "markdown",
   "metadata": {
    "deletable": true,
    "editable": true
   },
   "source": [
    "## Modules\n",
    "\n",
    "Each module should:\n",
    "\n",
    "- Not exceed approximately 30 minutes of teaching time\n",
    "- Have clearly stated, verifiable learning objectives\n",
    "- Include some summative assessment instrument that could be used to verify learning has taken place\n",
    "- Clearly flag prerequisites and link to relevant educational materials\n",
    "\n",
    "Module ideas:\n",
    "\n",
    "- How are brain images stored in files on your computer\n",
    "- Slice timing correction\n",
    "- Motion correction\n",
    "- Smoothing\n",
    "- Normalization to an MNI template (and coordinate systems)\n",
    "- The BOLD signal\n",
    "- Setting up a design matrix\n",
    "- Running the GLM\n",
    "- Hypothesis testing\n",
    "- Visualizing the results\n",
    "- Writing the methods section"
   ]
  },
  {
   "cell_type": "markdown",
   "metadata": {},
   "source": [
    "# Coregistration"
   ]
  },
  {
   "cell_type": "markdown",
   "metadata": {},
   "source": [
    "Learning objectives \n",
    "\n",
    "After completing this module, you should be able to:\n",
    "\n",
    "1. Explain what coregistration does\n",
    "2. Perform coregistration on your dataset\n",
    "3. Identify any issues that may have ocurred in the coregistration process\n"
   ]
  },
  {
   "cell_type": "markdown",
   "metadata": {},
   "source": [
    "Another important preprocessing step is coregistration. Coregistration is done for each participant. During the coregistration process, \"blurrier\" functional images are aligned with \"sharper\" anatomical images. This allows for more precise spatial normalization."
   ]
  },
  {
   "cell_type": "markdown",
   "metadata": {},
   "source": [
    "# Normalization (e.g., to an MNI template)"
   ]
  },
  {
   "cell_type": "markdown",
   "metadata": {},
   "source": [
    "Learning objectives\n",
    "\n",
    "After completing this module, you should be able to:\n",
    "\n",
    "1. Explain what normalization does\n",
    "2. Perform normalization on your dataset\n",
    "3. Identify any issues that may have occured in the normalization process"
   ]
  },
  {
   "cell_type": "markdown",
   "metadata": {},
   "source": [
    "Just like the people they belong to, brains come in different shapes and sizes. In order to meaningfully assess what is happening across the brains of your participants, you'll want to put these brains in one common space. This is where normalization comes in. There are many different ways to normalize. Here we will discuss a common method: using the Montreal Neurological Institute (MNI) template.\n",
    "\n",
    "You can think of the MNI template as a \"representative\" brain. Researchers essentially took the \"average\" of hundreds of brains and generated this common space. As a researcher yourself, you can take the brain images that you collected and align them to this MNI template. This is done through a series of stretching and warping that fits each brain into this common space. \n",
    "\n",
    "Normalization is extremely important! This preprocessing step increases statistical power, allows for group analyses, and allows for generalizability across studies. "
   ]
  },
  {
   "cell_type": "markdown",
   "metadata": {},
   "source": [
    "# Smoothing"
   ]
  },
  {
   "cell_type": "markdown",
   "metadata": {},
   "source": [
    "Learning objectives:\n",
    "\n",
    "After completing this modeule, you should be able to:\n",
    "\n",
    "1. Explain the pros and cons of smoothing\n",
    "2. Perform smoothing on your dataset"
   ]
  },
  {
   "cell_type": "markdown",
   "metadata": {},
   "source": [
    "Another preprocessing step is called smoothing. The goal of smoothing is to increase your signal and decrease your noise. This is done by a process of weighting neighboring voxels -- each voxel is replaced by the weighted average of itself and the voxels around it. \n",
    "\n",
    "Smoothing does come along with disadvanteges. It reduces the spatial resolution of the data, increases edge artifacts, and can create mislocalization of activation peaks. \n",
    "\n",
    "Like many steps in a neuroimaging pipeline, there are many choices you can make about smoothing. [Discussion of kernal size, etc]"
   ]
  }
 ],
 "metadata": {
  "anaconda-cloud": {},
  "kernelspec": {
   "display_name": "Python [default]",
   "language": "python",
   "name": "python3"
  },
  "language_info": {
   "codemirror_mode": {
    "name": "ipython",
    "version": 3
   },
   "file_extension": ".py",
   "mimetype": "text/x-python",
   "name": "python",
   "nbconvert_exporter": "python",
   "pygments_lexer": "ipython3",
   "version": "3.5.2"
  }
 },
 "nbformat": 4,
 "nbformat_minor": 2
}
