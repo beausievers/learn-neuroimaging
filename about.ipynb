{
 "cells": [
  {
   "cell_type": "markdown",
   "metadata": {
    "deletable": true,
    "editable": true
   },
   "source": [
    "## Target audience\n",
    "\n",
    "Dana is a first year PhD student in a Psychology department who is designing and analyzing a univariate fMRI study. Dana has taken an introductory Computer Science course that uses Python, as well as a graduate level introductory statistics class with a focus on Psychology. Dana has read scientific papers that use neuroimaging, but has never written a neuroimaging analysis pipeline.\n",
    "\n",
    "Dana's study uses a simple two-by-two design, amenable to analysis using the General Linear Model. Dana receives fMRI data from the department neuroimaging center in BIDS format. Dana will need to preprocess the data, analyze the data using the general linear model (GLM), and write methods and results sections suitable for publication in a scientific journal.\n",
    "\n",
    "Learn Neuroimaging with Python will show Dana how to:\n",
    "\n",
    "- Understand the BIDS-formatted data they receive from their neuroimaging center\n",
    "- Perform basic quality assurance on the data\n",
    "- Preprocess the data to prepare for analysis using the GLM\n",
    "- Perform an analysis using the GLM\n",
    "- Plot the results of their analysis\n",
    "- Write a methods section"
   ]
  },
  {
   "cell_type": "markdown",
   "metadata": {
    "deletable": true,
    "editable": true
   },
   "source": [
    "## Modules\n",
    "\n",
    "Each module should:\n",
    "\n",
    "- Not exceed approximately 30 minutes of teaching time\n",
    "- Have clearly stated, verifiable learning objectives\n",
    "- Include some summative assessment instrument that could be used to verify learning has taken place\n",
    "- Clearly flag prerequisites and link to relevant educational materials\n",
    "\n",
    "Module ideas:\n",
    "\n",
    "- Loading and plotting anatomical and EPI \n",
    "- Motion correction\n",
    "- Pre-processing\n",
    "- Blocked versus event-related"
   ]
  },
  {
   "cell_type": "code",
   "execution_count": null,
   "metadata": {
    "collapsed": true,
    "deletable": true,
    "editable": true
   },
   "outputs": [],
   "source": []
  }
 ],
 "metadata": {
  "kernelspec": {
   "display_name": "Python 2",
   "language": "python",
   "name": "python2"
  },
  "language_info": {
   "codemirror_mode": {
    "name": "ipython",
    "version": 2
   },
   "file_extension": ".py",
   "mimetype": "text/x-python",
   "name": "python",
   "nbconvert_exporter": "python",
   "pygments_lexer": "ipython2",
   "version": "2.7.13"
  }
 },
 "nbformat": 4,
 "nbformat_minor": 2
}
