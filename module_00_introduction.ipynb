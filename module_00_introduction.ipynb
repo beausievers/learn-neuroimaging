{
 "cells": [
  {
   "cell_type": "markdown",
   "metadata": {
    "deletable": true,
    "editable": true
   },
   "source": [
    "# Learn Neuroimaging with Python"
   ]
  },
  {
   "cell_type": "markdown",
   "metadata": {
    "deletable": true,
    "editable": true
   },
   "source": [
    "## Who this course is for\n",
    "\n",
    "These lessons are targeted toward a specific, imagined person—Dana. Dana is a first year PhD student in a Psychology department who is analyzing a univariate fMRI study. Dana has taken an introductory Computer Science course that uses Python, as well as a graduate level introductory statistics class with a focus on Psychology that uses Python, NumPy, and SciPy. Dana has read scientific papers that use neuroimaging, but has never written a neuroimaging analysis pipeline.\n",
    "\n",
    "Dana's study uses a simple design, amenable to analysis using the General Linear Model. Dana has already received fMRI data from their department's neuroimaging center in BIDS format. Dana will need to preprocess the data, analyze the data using the general linear model (GLM), and write methods and results sections suitable for publication in a scientific journal.\n",
    "\n",
    "We imagine that Dana is more-or-less representative of many people who seek to understand how neuroimaging analysis pipelines are designed and built, including advanced undergraduates, research assistants, or first and second year doctoral students in Psychology and Neuroscience.\n",
    "\n",
    "A simple way of putting it: Learn Neuroimaging with Python assumes some experience with the Python programming language, the NumPy and SciPy libraries for scientific computing, statistics, and (minimal) linear algebra.\n",
    "\n",
    "If you don't have as much experience as Dana, you should still be able to get a lot out of this course. When a complete description of a concept would distract from our main goal (teaching how to think about and build a neuroimaging analysis pipeline), we link to relevant tutorials and resources elsewhere on the web."
   ]
  },
  {
   "cell_type": "markdown",
   "metadata": {
    "deletable": true,
    "editable": true
   },
   "source": [
    "## Required packages\n",
    "\n",
    "These tutorials make extensive use of the following Python packages, so it makes sense to install them before you begin:\n",
    "\n",
    "- NumPy\n",
    "- SciPy\n",
    "- matplotlib\n",
    "- nilearn\n",
    "- ipywidgets\n",
    "\n",
    "Using pip to install ipywidgets does not enable the widget extension. To enable widgets, use the following command:\n",
    "\n",
    "<code>jupyter nbextension enable --py --sys-prefix widgetsnbextension</code>"
   ]
  },
  {
   "cell_type": "markdown",
   "metadata": {
    "deletable": true,
    "editable": true
   },
   "source": [
    "## Table of contents\n",
    "\n",
    "1. <a href=\"module_01_loading_and_plotting.ipynb\">Loading and plotting brain images</a> (draft)"
   ]
  },
  {
   "cell_type": "markdown",
   "metadata": {
    "deletable": true,
    "editable": true
   },
   "source": [
    "## Inspirations\n",
    "\n",
    "- <a href=\"https://software-carpentry.org\">Software Carpentry</a>\n",
    "- <a href=\"https://matthew-brett.github.io/teaching/\">Matthew Brett's tutorials</a>"
   ]
  },
  {
   "cell_type": "markdown",
   "metadata": {
    "deletable": true,
    "editable": true
   },
   "source": [
    "## History\n",
    "\n",
    "This course began its life as a project for Brainhack 2017 at Dartmouth College."
   ]
  },
  {
   "cell_type": "markdown",
   "metadata": {
    "deletable": true,
    "editable": true
   },
   "source": [
    "## Contributors\n",
    "\n",
    "Beau Sievers, Emma Templeton, Sophie Wohltjen, Daisy Burr, Tracy Darbeloff, Sasha Brietzke, Feilong Ma"
   ]
  }
 ],
 "metadata": {
  "kernelspec": {
   "display_name": "Python 2",
   "language": "python",
   "name": "python2"
  },
  "language_info": {
   "codemirror_mode": {
    "name": "ipython",
    "version": 2
   },
   "file_extension": ".py",
   "mimetype": "text/x-python",
   "name": "python",
   "nbconvert_exporter": "python",
   "pygments_lexer": "ipython2",
   "version": "2.7.13"
  }
 },
 "nbformat": 4,
 "nbformat_minor": 2
}
