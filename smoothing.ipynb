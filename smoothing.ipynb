{
 "cells": [
  {
   "cell_type": "markdown",
   "metadata": {},
   "source": [
    "# Smoothing"
   ]
  },
  {
   "cell_type": "markdown",
   "metadata": {},
   "source": [
    "<h3> Learning objectives: </h3>\n",
    "\n",
    "After completing this modeule, you should be able to:\n",
    "\n",
    "1. Explain the pros and cons of smoothing\n",
    "2. Perform smoothing on your dataset"
   ]
  },
  {
   "cell_type": "markdown",
   "metadata": {},
   "source": [
    "<h3> Overview </h3>\n",
    "\n",
    "Another preprocessing step is called smoothing. The goal of smoothing is to increase your signal and decrease your noise. This is done by a process of weighting neighboring voxels -- each voxel is replaced by the weighted average of itself and the voxels around it. \n",
    "\n",
    "Smoothing does have disadvantages. It reduces the spatial resolution of the data, increases edge artifacts, and can create mislocalization of activation peaks. \n",
    "\n",
    "Like many steps in a neuroimaging pipeline, there are many choices you can make about smoothing. [Discussion of kernal size, etc]"
   ]
  },
  {
   "cell_type": "markdown",
   "metadata": {},
   "source": [
    "Let's get started! [python code here]"
   ]
  }
 ],
 "metadata": {
  "kernelspec": {
   "display_name": "Python [default]",
   "language": "python",
   "name": "python3"
  },
  "language_info": {
   "codemirror_mode": {
    "name": "ipython",
    "version": 3
   },
   "file_extension": ".py",
   "mimetype": "text/x-python",
   "name": "python",
   "nbconvert_exporter": "python",
   "pygments_lexer": "ipython3",
   "version": "3.5.2"
  }
 },
 "nbformat": 4,
 "nbformat_minor": 1
}
