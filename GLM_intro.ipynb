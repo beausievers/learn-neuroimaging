{
 "cells": [
  {
   "cell_type": "markdown",
   "metadata": {},
   "source": [
    "General Linear Model\n",
    "\n",
    "Learning Objectives:\n",
    "1. Conceptually understanding the GLM\n",
    "2. Assumptions of the GLM\n",
    "\n",
    "Now we will discuss the general linear model (GLM). You are probably familiar with the concept of linear regression from introductory statistics. Linear regression is an approach that attempts to model an independent variable (x) with explanatory variable(s) (y). \n",
    "\n",
    "The GLM holds the same basic principle, on the order of matrices (sets of data arranged in an nxm matrix). Our equation is\n",
    "    y = G x β + ε \n",
    "where y is the Data Matrix (the signal values you get from the MRI scanner), G is the Design Matrix (which we discussed previously), β are the experimental parameters for the design matrix that best account for the design matrix, and ε are the residuals, or the data that don't fit the estimated design matrix.\n",
    "\n",
    "Assumptions:\n",
    "1. Noise contributes equally at all time points\n",
    "2. All voxels are independent \n",
    "3. The design matrix is the same everywhere in the brain\n",
    "\n"
   ]
  },
  {
   "cell_type": "code",
   "execution_count": null,
   "metadata": {
    "collapsed": true
   },
   "outputs": [],
   "source": []
  }
 ],
 "metadata": {
  "kernelspec": {
   "display_name": "Python 3",
   "language": "python",
   "name": "python3"
  },
  "language_info": {
   "codemirror_mode": {
    "name": "ipython",
    "version": 3
   },
   "file_extension": ".py",
   "mimetype": "text/x-python",
   "name": "python",
   "nbconvert_exporter": "python",
   "pygments_lexer": "ipython3",
   "version": "3.6.0"
  }
 },
 "nbformat": 4,
 "nbformat_minor": 2
}
