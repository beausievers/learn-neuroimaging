{
 "cells": [
  {
   "cell_type": "markdown",
   "metadata": {},
   "source": [
    "## Target audience\n",
    "\n",
    "Dana is a first year PhD student in a Psychology department who is designing and analyzing a univariate fMRI study. Dana has taken an introductory Computer Science course that uses Python, as well as a graduate level introductory statistics class with a focus on Psychology. Dana has read scientific papers that use neuroimaging, but has never written a neuroimaging analysis pipeline.\n",
    "\n",
    "Dana's study uses a simple two-by-two design, amenable to analysis using the General Linear Model. Dana receives fMRI data from the department neuroimaging center in BIDS format. Dana will need to preprocess the data, analyze the data using the general linear model (GLM), and write methods and results sections suitable for publication in a scientific journal.\n",
    "\n",
    "Learn Neuroimaging with Python will show Dana:\n",
    "\n",
    "- How to understand the BIDS-formatted data they receive from their neuroimaging center.\n",
    "- How to perform basic quality assurance on the data.\n",
    "- How to preprocess the data to prepare for analysis using the GLM.\n",
    "- How to perform an analysis using the GLM.\n",
    "- How to plot the results of the analysis.\n",
    "- How to write a methods section."
   ]
  },
  {
   "cell_type": "code",
   "execution_count": null,
   "metadata": {
    "collapsed": true
   },
   "outputs": [],
   "source": []
  }
 ],
 "metadata": {
  "kernelspec": {
   "display_name": "Python 3",
   "language": "python",
   "name": "python3"
  },
  "language_info": {
   "codemirror_mode": {
    "name": "ipython",
    "version": 3
   },
   "file_extension": ".py",
   "mimetype": "text/x-python",
   "name": "python",
   "nbconvert_exporter": "python",
   "pygments_lexer": "ipython3",
   "version": "3.6.0"
  }
 },
 "nbformat": 4,
 "nbformat_minor": 2
}
