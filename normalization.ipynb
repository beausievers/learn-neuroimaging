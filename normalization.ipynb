{
 "cells": [
  {
   "cell_type": "markdown",
   "metadata": {},
   "source": [
    "# Normalization \n",
    "## (e.g., to an MNI template)"
   ]
  },
  {
   "cell_type": "markdown",
   "metadata": {},
   "source": [
    "<h3> Learning objectives </h3>\n",
    "\n",
    "After completing this module, you should be able to:\n",
    "\n",
    "1. Explain what normalization does\n",
    "2. Perform normalization on your dataset\n",
    "3. Identify any issues that may have occured in the normalization process"
   ]
  },
  {
   "cell_type": "markdown",
   "metadata": {},
   "source": [
    "<h3> Overview </h3>\n",
    "\n",
    "Just like the people they belong to, brains come in different shapes and sizes. In order to meaningfully assess what is happening across the brains of your participants, you'll want to put these brains into one common space. This is where normalization comes in. \n",
    "\n",
    "There are many different ways to normalize. Here we will discuss a common method: using the Montreal Neurological Institute (MNI) template.\n",
    "\n",
    "You can think of the MNI template as a \"representative\" brain. Researchers essentially took the \"average\" of hundreds of brains and generated this common space. As a researcher yourself, you can take the brain images that you collected and align them to this MNI template. This is done through a series of stretching and warping that fits each brain into this common space. \n",
    "\n",
    "Normalization is extremely important! This preprocessing step increases statistical power, allows for group analyses, and allows for generalizability across studies. "
   ]
  },
  {
   "cell_type": "markdown",
   "metadata": {},
   "source": [
    "Let's get started! [python code here]"
   ]
  }
 ],
 "metadata": {
  "anaconda-cloud": {},
  "kernelspec": {
   "display_name": "Python [default]",
   "language": "python",
   "name": "python3"
  },
  "language_info": {
   "codemirror_mode": {
    "name": "ipython",
    "version": 3
   },
   "file_extension": ".py",
   "mimetype": "text/x-python",
   "name": "python",
   "nbconvert_exporter": "python",
   "pygments_lexer": "ipython3",
   "version": "3.5.2"
  }
 },
 "nbformat": 4,
 "nbformat_minor": 1
}
